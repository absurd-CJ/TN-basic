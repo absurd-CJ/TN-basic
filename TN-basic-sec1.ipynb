{
 "cells": [
  {
   "cell_type": "code",
   "execution_count": 7,
   "id": "f35a872b",
   "metadata": {},
   "outputs": [],
   "source": [
    "import numpy as np"
   ]
  },
  {
   "cell_type": "code",
   "execution_count": 8,
   "id": "f1dcc00b",
   "metadata": {},
   "outputs": [
    {
     "name": "stdout",
     "output_type": "stream",
     "text": [
      "1.4\n",
      "(1.4+2.1j)\n",
      "(-2.45+5.88j)\n",
      "(33.4+2.1j)\n",
      "(33.4+2.1j)\n",
      "1.1832159566199232\n"
     ]
    }
   ],
   "source": [
    "# 标量\n",
    "x = 1.4\n",
    "print(x)\n",
    "y = x + 1j*2.1\n",
    "print(y)\n",
    "print(y ** 2)  # y的平方\n",
    "print(y + 34 - 2)\n",
    "print(y + 32)\n",
    "print(np.sqrt(x))"
   ]
  },
  {
   "cell_type": "code",
   "execution_count": 24,
   "id": "353f106a",
   "metadata": {},
   "outputs": [
    {
     "name": "stdout",
     "output_type": "stream",
     "text": [
      "[ 0.04164143  0.34539928  0.78416875 -1.24321084]\n",
      "[0. 0. 0. 0. 0. 0. 0. 0.]\n",
      "(4,)\n",
      "4\n",
      "2.281528489313157\n",
      "[ 0.04164143  0.34539928  0.78416875 10.22      ]\n"
     ]
    }
   ],
   "source": [
    "# 向量\n",
    "v = np.random.randn(4,)    # 生成长度为4的随机向量\n",
    "print(v)\n",
    "zero = np.zeros(8)   # 长度为8的全零数组\n",
    "print(zero)\n",
    "print(v.shape)   # v的形状\n",
    "print(v.size)    # v中包含元素的个数\n",
    "print(v.dot(v))  # v和v的内积（dot对一维数组来说是内积，二维即矩阵积）\n",
    "v[3] = 10.22     # 修改v的某个元素\n",
    "print(v)"
   ]
  }
 ],
 "metadata": {
  "kernelspec": {
   "display_name": "Python 3 (ipykernel)",
   "language": "python",
   "name": "python3"
  },
  "language_info": {
   "codemirror_mode": {
    "name": "ipython",
    "version": 3
   },
   "file_extension": ".py",
   "mimetype": "text/x-python",
   "name": "python",
   "nbconvert_exporter": "python",
   "pygments_lexer": "ipython3",
   "version": "3.9.7"
  }
 },
 "nbformat": 4,
 "nbformat_minor": 5
}
